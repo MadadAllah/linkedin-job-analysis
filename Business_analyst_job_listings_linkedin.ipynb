{
 "cells": [
  {
   "cell_type": "markdown",
   "id": "bdab8c01-b89e-410a-ac57-32fd4c5a0455",
   "metadata": {},
   "source": [
    "# Data Cleaning & Preprocessing"
   ]
  },
  {
   "cell_type": "markdown",
   "id": "d25e5c27-ff1c-4123-8d18-70bfca85e84e",
   "metadata": {},
   "source": [
    "## 1️⃣ Load the Dataset"
   ]
  },
  {
   "cell_type": "code",
   "execution_count": 4,
   "id": "4140371c-bcb4-4ed7-82a7-10117eecfb29",
   "metadata": {},
   "outputs": [],
   "source": [
    "import pandas as pd\n",
    "import seaborn as sns\n",
    "import matplotlib.pyplot as plt\n",
    "\n",
    "\n",
    "df = pd.read_csv(\"Business_analyst_job_listings_linkedin.csv\")"
   ]
  },
  {
   "cell_type": "code",
   "execution_count": 3,
   "id": "d81b45a0-310e-4163-a0f9-0d81725c349a",
   "metadata": {},
   "outputs": [
    {
     "data": {
      "text/html": [
       "<div>\n",
       "<style scoped>\n",
       "    .dataframe tbody tr th:only-of-type {\n",
       "        vertical-align: middle;\n",
       "    }\n",
       "\n",
       "    .dataframe tbody tr th {\n",
       "        vertical-align: top;\n",
       "    }\n",
       "\n",
       "    .dataframe thead th {\n",
       "        text-align: right;\n",
       "    }\n",
       "</style>\n",
       "<table border=\"1\" class=\"dataframe\">\n",
       "  <thead>\n",
       "    <tr style=\"text-align: right;\">\n",
       "      <th></th>\n",
       "      <th>title</th>\n",
       "      <th>location</th>\n",
       "      <th>publishedAt</th>\n",
       "      <th>companyName</th>\n",
       "      <th>description</th>\n",
       "      <th>applicationsCount</th>\n",
       "      <th>contractType</th>\n",
       "      <th>experienceLevel</th>\n",
       "      <th>workType</th>\n",
       "      <th>sector</th>\n",
       "    </tr>\n",
       "  </thead>\n",
       "  <tbody>\n",
       "    <tr>\n",
       "      <th>0</th>\n",
       "      <td>Business Analyst</td>\n",
       "      <td>United States</td>\n",
       "      <td>2024-09-04</td>\n",
       "      <td>Wipro</td>\n",
       "      <td>About the Company:\\n\\nWipro Limited (NYSE: WIT...</td>\n",
       "      <td>Over 200 applicants</td>\n",
       "      <td>Full-time</td>\n",
       "      <td>Mid-Senior level</td>\n",
       "      <td>Analyst and Health Care Provider</td>\n",
       "      <td>IT Services and IT Consulting</td>\n",
       "    </tr>\n",
       "    <tr>\n",
       "      <th>1</th>\n",
       "      <td>Business Analyst, CS Workforce Management</td>\n",
       "      <td>United States</td>\n",
       "      <td>2024-08-23</td>\n",
       "      <td>Netflix</td>\n",
       "      <td>Netflix is one of the world’s leading entertai...</td>\n",
       "      <td>Over 200 applicants</td>\n",
       "      <td>Full-time</td>\n",
       "      <td>Not Applicable</td>\n",
       "      <td>Other</td>\n",
       "      <td>Entertainment Providers</td>\n",
       "    </tr>\n",
       "    <tr>\n",
       "      <th>2</th>\n",
       "      <td>Business Analyst</td>\n",
       "      <td>Atlanta, GA</td>\n",
       "      <td>2024-08-02</td>\n",
       "      <td>Donato Technologies, Inc.</td>\n",
       "      <td>Required Fields\\n\\n\\n * Number of Positions re...</td>\n",
       "      <td>170 applicants</td>\n",
       "      <td>Full-time</td>\n",
       "      <td>Associate</td>\n",
       "      <td>Research, Analyst, and Information Technology</td>\n",
       "      <td>IT Services and IT Consulting</td>\n",
       "    </tr>\n",
       "    <tr>\n",
       "      <th>3</th>\n",
       "      <td>Business Analyst</td>\n",
       "      <td>Miami, FL</td>\n",
       "      <td>2024-08-20</td>\n",
       "      <td>Carnival Cruise Line</td>\n",
       "      <td>Job ID 7930 Location Miami, FL Date posted 07/...</td>\n",
       "      <td>Over 200 applicants</td>\n",
       "      <td>Full-time</td>\n",
       "      <td>Associate</td>\n",
       "      <td>Research, Analyst, and Information Technology</td>\n",
       "      <td>Travel Arrangements</td>\n",
       "    </tr>\n",
       "    <tr>\n",
       "      <th>4</th>\n",
       "      <td>Business Analyst</td>\n",
       "      <td>New York, NY</td>\n",
       "      <td>2024-08-27</td>\n",
       "      <td>Relevante, Inc.</td>\n",
       "      <td>Salary: $ 130,000.00\\n\\nWe have partnered with...</td>\n",
       "      <td>Over 200 applicants</td>\n",
       "      <td>Full-time</td>\n",
       "      <td>Associate</td>\n",
       "      <td>Research, Analyst, and Information Technology</td>\n",
       "      <td>Banking</td>\n",
       "    </tr>\n",
       "  </tbody>\n",
       "</table>\n",
       "</div>"
      ],
      "text/plain": [
       "                                       title       location publishedAt  \\\n",
       "0                           Business Analyst  United States  2024-09-04   \n",
       "1  Business Analyst, CS Workforce Management  United States  2024-08-23   \n",
       "2                           Business Analyst    Atlanta, GA  2024-08-02   \n",
       "3                           Business Analyst      Miami, FL  2024-08-20   \n",
       "4                           Business Analyst   New York, NY  2024-08-27   \n",
       "\n",
       "                 companyName  \\\n",
       "0                      Wipro   \n",
       "1                    Netflix   \n",
       "2  Donato Technologies, Inc.   \n",
       "3       Carnival Cruise Line   \n",
       "4            Relevante, Inc.   \n",
       "\n",
       "                                         description    applicationsCount  \\\n",
       "0  About the Company:\\n\\nWipro Limited (NYSE: WIT...  Over 200 applicants   \n",
       "1  Netflix is one of the world’s leading entertai...  Over 200 applicants   \n",
       "2  Required Fields\\n\\n\\n * Number of Positions re...       170 applicants   \n",
       "3  Job ID 7930 Location Miami, FL Date posted 07/...  Over 200 applicants   \n",
       "4  Salary: $ 130,000.00\\n\\nWe have partnered with...  Over 200 applicants   \n",
       "\n",
       "  contractType   experienceLevel  \\\n",
       "0    Full-time  Mid-Senior level   \n",
       "1    Full-time    Not Applicable   \n",
       "2    Full-time         Associate   \n",
       "3    Full-time         Associate   \n",
       "4    Full-time         Associate   \n",
       "\n",
       "                                        workType  \\\n",
       "0               Analyst and Health Care Provider   \n",
       "1                                          Other   \n",
       "2  Research, Analyst, and Information Technology   \n",
       "3  Research, Analyst, and Information Technology   \n",
       "4  Research, Analyst, and Information Technology   \n",
       "\n",
       "                          sector  \n",
       "0  IT Services and IT Consulting  \n",
       "1        Entertainment Providers  \n",
       "2  IT Services and IT Consulting  \n",
       "3            Travel Arrangements  \n",
       "4                        Banking  "
      ]
     },
     "execution_count": 3,
     "metadata": {},
     "output_type": "execute_result"
    }
   ],
   "source": [
    "df.head() # Preview first 5 rows"
   ]
  },
  {
   "cell_type": "markdown",
   "id": "08dfdef2-352e-46c0-9402-e71ac557c935",
   "metadata": {},
   "source": [
    "## 2️⃣ Initial Data Exploration"
   ]
  },
  {
   "cell_type": "code",
   "execution_count": 12,
   "id": "06427120-4b31-4935-bd63-03b5f9908b59",
   "metadata": {},
   "outputs": [
    {
     "name": "stdout",
     "output_type": "stream",
     "text": [
      "<class 'pandas.core.frame.DataFrame'>\n",
      "RangeIndex: 921 entries, 0 to 920\n",
      "Data columns (total 10 columns):\n",
      " #   Column             Non-Null Count  Dtype \n",
      "---  ------             --------------  ----- \n",
      " 0   title              921 non-null    object\n",
      " 1   location           921 non-null    object\n",
      " 2   publishedAt        921 non-null    object\n",
      " 3   companyName        911 non-null    object\n",
      " 4   description        921 non-null    object\n",
      " 5   applicationsCount  921 non-null    object\n",
      " 6   contractType       921 non-null    object\n",
      " 7   experienceLevel    921 non-null    object\n",
      " 8   workType           921 non-null    object\n",
      " 9   sector             921 non-null    object\n",
      "dtypes: object(10)\n",
      "memory usage: 72.1+ KB\n"
     ]
    }
   ],
   "source": [
    "# Dataset Overview \n",
    "\n",
    "df.info()"
   ]
  },
  {
   "cell_type": "code",
   "execution_count": 13,
   "id": "763ebd15-be75-4425-8252-c85d8258260f",
   "metadata": {},
   "outputs": [
    {
     "data": {
      "text/html": [
       "<div>\n",
       "<style scoped>\n",
       "    .dataframe tbody tr th:only-of-type {\n",
       "        vertical-align: middle;\n",
       "    }\n",
       "\n",
       "    .dataframe tbody tr th {\n",
       "        vertical-align: top;\n",
       "    }\n",
       "\n",
       "    .dataframe thead th {\n",
       "        text-align: right;\n",
       "    }\n",
       "</style>\n",
       "<table border=\"1\" class=\"dataframe\">\n",
       "  <thead>\n",
       "    <tr style=\"text-align: right;\">\n",
       "      <th></th>\n",
       "      <th>title</th>\n",
       "      <th>location</th>\n",
       "      <th>publishedAt</th>\n",
       "      <th>companyName</th>\n",
       "      <th>description</th>\n",
       "      <th>applicationsCount</th>\n",
       "      <th>contractType</th>\n",
       "      <th>experienceLevel</th>\n",
       "      <th>workType</th>\n",
       "      <th>sector</th>\n",
       "    </tr>\n",
       "  </thead>\n",
       "  <tbody>\n",
       "    <tr>\n",
       "      <th>count</th>\n",
       "      <td>921</td>\n",
       "      <td>921</td>\n",
       "      <td>921</td>\n",
       "      <td>911</td>\n",
       "      <td>921</td>\n",
       "      <td>921</td>\n",
       "      <td>921</td>\n",
       "      <td>921</td>\n",
       "      <td>921</td>\n",
       "      <td>921</td>\n",
       "    </tr>\n",
       "    <tr>\n",
       "      <th>unique</th>\n",
       "      <td>239</td>\n",
       "      <td>250</td>\n",
       "      <td>165</td>\n",
       "      <td>387</td>\n",
       "      <td>841</td>\n",
       "      <td>157</td>\n",
       "      <td>4</td>\n",
       "      <td>7</td>\n",
       "      <td>83</td>\n",
       "      <td>149</td>\n",
       "    </tr>\n",
       "    <tr>\n",
       "      <th>top</th>\n",
       "      <td>Business Analyst</td>\n",
       "      <td>United States</td>\n",
       "      <td>2024-08-15</td>\n",
       "      <td>CGS Federal (Contact Government Services)</td>\n",
       "      <td>Employment Type: Full-Time, Experienced\\n\\nDep...</td>\n",
       "      <td>Over 200 applicants</td>\n",
       "      <td>Full-time</td>\n",
       "      <td>Associate</td>\n",
       "      <td>Research, Analyst, and Information Technology</td>\n",
       "      <td>IT Services and IT Consulting</td>\n",
       "    </tr>\n",
       "    <tr>\n",
       "      <th>freq</th>\n",
       "      <td>523</td>\n",
       "      <td>159</td>\n",
       "      <td>60</td>\n",
       "      <td>54</td>\n",
       "      <td>54</td>\n",
       "      <td>403</td>\n",
       "      <td>501</td>\n",
       "      <td>437</td>\n",
       "      <td>605</td>\n",
       "      <td>284</td>\n",
       "    </tr>\n",
       "  </tbody>\n",
       "</table>\n",
       "</div>"
      ],
      "text/plain": [
       "                   title       location publishedAt  \\\n",
       "count                921            921         921   \n",
       "unique               239            250         165   \n",
       "top     Business Analyst  United States  2024-08-15   \n",
       "freq                 523            159          60   \n",
       "\n",
       "                                      companyName  \\\n",
       "count                                         911   \n",
       "unique                                        387   \n",
       "top     CGS Federal (Contact Government Services)   \n",
       "freq                                           54   \n",
       "\n",
       "                                              description  \\\n",
       "count                                                 921   \n",
       "unique                                                841   \n",
       "top     Employment Type: Full-Time, Experienced\\n\\nDep...   \n",
       "freq                                                   54   \n",
       "\n",
       "          applicationsCount contractType experienceLevel  \\\n",
       "count                   921          921             921   \n",
       "unique                  157            4               7   \n",
       "top     Over 200 applicants    Full-time       Associate   \n",
       "freq                    403          501             437   \n",
       "\n",
       "                                             workType  \\\n",
       "count                                             921   \n",
       "unique                                             83   \n",
       "top     Research, Analyst, and Information Technology   \n",
       "freq                                              605   \n",
       "\n",
       "                               sector  \n",
       "count                             921  \n",
       "unique                            149  \n",
       "top     IT Services and IT Consulting  \n",
       "freq                              284  "
      ]
     },
     "execution_count": 13,
     "metadata": {},
     "output_type": "execute_result"
    }
   ],
   "source": [
    "# Summary Statistics \n",
    "\n",
    "df.describe()"
   ]
  },
  {
   "cell_type": "code",
   "execution_count": 14,
   "id": "588d6005-e68b-4205-94f1-07f408f3e2fb",
   "metadata": {},
   "outputs": [
    {
     "data": {
      "text/plain": [
       "Index(['title', 'location', 'publishedAt', 'companyName', 'description',\n",
       "       'applicationsCount', 'contractType', 'experienceLevel', 'workType',\n",
       "       'sector'],\n",
       "      dtype='object')"
      ]
     },
     "execution_count": 14,
     "metadata": {},
     "output_type": "execute_result"
    }
   ],
   "source": [
    "# Column Names \n",
    "\n",
    "df.columns"
   ]
  },
  {
   "cell_type": "markdown",
   "id": "ad446852-63aa-4c87-9cfd-787e084120c4",
   "metadata": {},
   "source": [
    "## 3️⃣ Handling Missing Values"
   ]
  },
  {
   "cell_type": "code",
   "execution_count": 15,
   "id": "ace5da80-919e-43e1-91e4-8cd0da7c809c",
   "metadata": {},
   "outputs": [
    {
     "data": {
      "text/plain": [
       "title                 0\n",
       "location              0\n",
       "publishedAt           0\n",
       "companyName          10\n",
       "description           0\n",
       "applicationsCount     0\n",
       "contractType          0\n",
       "experienceLevel       0\n",
       "workType              0\n",
       "sector                0\n",
       "dtype: int64"
      ]
     },
     "execution_count": 15,
     "metadata": {},
     "output_type": "execute_result"
    }
   ],
   "source": [
    "df.isnull().sum()"
   ]
  },
  {
   "cell_type": "markdown",
   "id": "8ab03ce6-2c4e-4410-bf9d-1fc272170615",
   "metadata": {},
   "source": [
    "### Handling Missing Values in `companyName`"
   ]
  },
  {
   "cell_type": "code",
   "execution_count": 4,
   "id": "d47ff339-70f6-4af4-9025-2ce73f5258ab",
   "metadata": {},
   "outputs": [
    {
     "data": {
      "text/plain": [
       "title                0\n",
       "location             0\n",
       "publishedAt          0\n",
       "companyName          0\n",
       "description          0\n",
       "applicationsCount    0\n",
       "contractType         0\n",
       "experienceLevel      0\n",
       "workType             0\n",
       "sector               0\n",
       "dtype: int64"
      ]
     },
     "execution_count": 4,
     "metadata": {},
     "output_type": "execute_result"
    }
   ],
   "source": [
    "# Fill missing values in the 'companyName' column with 'Unknown'\n",
    "\n",
    "df['companyName'].fillna('Unknown', inplace=True) \n",
    "\n",
    "# Check for any missing values in the entire DataFrame\n",
    "df.isnull().sum()\n"
   ]
  },
  {
   "cell_type": "markdown",
   "id": "f933c5a2-2170-4afe-87cb-bf9b71a39a97",
   "metadata": {},
   "source": [
    "## 4️⃣ Removing Duplicates\n"
   ]
  },
  {
   "cell_type": "code",
   "execution_count": 11,
   "id": "39a55930-f08a-4b74-90a8-1432984c63b4",
   "metadata": {},
   "outputs": [],
   "source": [
    "df.drop_duplicates(inplace=True)"
   ]
  },
  {
   "cell_type": "markdown",
   "id": "01d492aa-8120-42b1-a11b-60cdf1d22181",
   "metadata": {},
   "source": [
    "### 📌 Clean & Extract Numeric Values from 'applicationsCount'"
   ]
  },
  {
   "cell_type": "code",
   "execution_count": 6,
   "id": "309fec71-b326-4e1f-adbd-6ed2270d66e9",
   "metadata": {},
   "outputs": [],
   "source": [
    "# Clean the 'applicationsCount' column by extracting numeric part\n",
    "df['applicationsCount'] = df['applicationsCount'].astype(str).str.extract('(\\d+)')\n",
    "df['applicationsCount'] = df['applicationsCount'].astype(float)"
   ]
  },
  {
   "cell_type": "markdown",
   "id": "a25844fa-812a-4b13-8263-9ac99531b19c",
   "metadata": {},
   "source": [
    "## 5️⃣ Outlier Detection & Treatment"
   ]
  },
  {
   "cell_type": "code",
   "execution_count": 7,
   "id": "a8a5cc0e-7746-45f7-a752-6f07e48e1961",
   "metadata": {},
   "outputs": [
    {
     "data": {
      "image/png": "[encoded data removed]",
      "text/plain": [
       "<Figure size 640x480 with 1 Axes>"
      ]
     },
     "metadata": {},
     "output_type": "display_data"
    }
   ],
   "source": [
    "# Visualize with boxplot\n",
    "\n",
    "sns.boxplot(df['applicationsCount'])\n",
    "plt.title('Outlier Detection - Applications Count')\n",
    "plt.show()"
   ]
  },
  {
   "cell_type": "code",
   "execution_count": 29,
   "id": "2c52064a-5fe3-4bde-a0f3-6aab37b6fc64",
   "metadata": {},
   "outputs": [],
   "source": [
    "# Calculate IQR\n",
    "\n",
    "Q1 = df['applicationsCount'].quantile(0.25)\n",
    "Q3 = df['applicationsCount'].quantile(0.75)\n",
    "IQR = Q3 - Q1\n",
    "\n",
    "lower_bound = Q1 - 1.5 * IQR\n",
    "upper_bound = Q3 + 1.5 * IQR\n",
    "\n",
    "# Filter out outliers\n",
    "df = df[(df['applicationsCount'] >= lower_bound) & (df['applicationsCount'] <= upper_bound)]"
   ]
  },
  {
   "cell_type": "markdown",
   "id": "4858a919-dcc6-49c3-a03c-6e7496072086",
   "metadata": {},
   "source": [
    "## 6️⃣ Data Standardization (Formatting, Text Cleaning)"
   ]
  },
  {
   "cell_type": "raw",
   "id": "63509f3f-d70a-4748-9b12-c036b6e398e8",
   "metadata": {},
   "source": [
    "🔹 Step 1: Convert publishedAt to proper datetime format"
   ]
  },
  {
   "cell_type": "code",
   "execution_count": 17,
   "id": "9ac839c9-452d-49b7-916f-6c5446e27841",
   "metadata": {},
   "outputs": [],
   "source": [
    "df['publishedAt'] = pd.to_datetime(df['publishedAt'], errors='coerce')"
   ]
  },
  {
   "cell_type": "raw",
   "id": "2a0b799a-607b-40dc-968f-c1fa1d6be312",
   "metadata": {},
   "source": [
    "🔹 Step 2: Extract numeric part from applicationsCount"
   ]
  },
  {
   "cell_type": "code",
   "execution_count": 18,
   "id": "07c8fa74-b628-4add-b6d8-e9d40e9fc7bc",
   "metadata": {},
   "outputs": [],
   "source": [
    "df['applicationsCount'] = df['applicationsCount'].str.extract('(\\d+)').astype(float)"
   ]
  },
  {
   "cell_type": "raw",
   "id": "c5f44f89-72d2-44a0-a72e-cc93f043e7f6",
   "metadata": {},
   "source": [
    "🔹 Step 3: Extract useful features (optional)"
   ]
  },
  {
   "cell_type": "code",
   "execution_count": 27,
   "id": "e87bb93f-e86f-404c-9d7d-be05e331770e",
   "metadata": {},
   "outputs": [],
   "source": [
    "df['publishYear'] = df['publishedAt'].dt.year\n",
    "df['publishMonth'] = df['publishedAt'].dt.month"
   ]
  },
  {
   "cell_type": "raw",
   "id": "32090047-d1e2-48d1-ac06-c5f3661aa94f",
   "metadata": {},
   "source": [
    "🔹 Step 4: Remove newline characters and extra whitespace from 'description'"
   ]
  },
  {
   "cell_type": "code",
   "execution_count": 9,
   "id": "f640d390-043a-42d0-a429-f9e1a09269d0",
   "metadata": {},
   "outputs": [],
   "source": [
    "df['description'] = df['description'].str.replace('\\n', ' ', regex=True).str.strip()"
   ]
  },
  {
   "cell_type": "markdown",
   "id": "2e371e02-3939-4d21-9ddc-de7dc2c9cef4",
   "metadata": {},
   "source": [
    "## 7️⃣ Final Cleaned Dataset\n"
   ]
  },
  {
   "cell_type": "code",
   "execution_count": 28,
   "id": "33895c63-9cc6-4f01-b5d3-86cd6962ca3c",
   "metadata": {},
   "outputs": [],
   "source": [
    "df.to_csv(\"cleaned_business_analyst_listings.csv\", index=False)"
   ]
  },
  {
   "cell_type": "markdown",
   "id": "f9f4fdf9-2b05-48a5-957e-6d4fa684579a",
   "metadata": {},
   "source": [
    "## ✅ Summary of Cleaning Steps"
   ]
  },
  {
   "cell_type": "markdown",
   "id": "a0a7a5e8-f71b-41c1-889e-367330123f9f",
   "metadata": {},
   "source": [
    "### - Handled missing values in 'companyName'\n",
    "#### - Removed duplicate rows\n",
    "#### - Converted 'publishedAt' to datetime\n",
    "#### - Extracted numeric value from 'applicationsCount'\n",
    "#### - Detected and removed outliers using IQR\n",
    "#### - Standardized formatting and cleaned text\n",
    "#### - Added 'publishYear' and 'publishMonth'\n",
    "#### - Exported the cleaned data to a new CSV"
   ]
  },
  {
   "cell_type": "code",
   "execution_count": null,
   "id": "6942fb73-849a-4f81-906c-5e2614dc9946",
   "metadata": {},
   "outputs": [],
   "source": []
  }
 ],
 "metadata": {
  "kernelspec": {
   "display_name": "Python 3 (ipykernel)",
   "language": "python",
   "name": "python3"
  },
  "language_info": {
   "codemirror_mode": {
    "name": "ipython",
    "version": 3
   },
   "file_extension": ".py",
   "mimetype": "text/x-python",
   "name": "python",
   "nbconvert_exporter": "python",
   "pygments_lexer": "ipython3",
   "version": "3.11.7"
  }
 },
 "nbformat": 4,
 "nbformat_minor": 5
}
